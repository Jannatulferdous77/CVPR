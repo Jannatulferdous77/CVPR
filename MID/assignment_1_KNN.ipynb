{
  "nbformat": 4,
  "nbformat_minor": 0,
  "metadata": {
    "colab": {
      "provenance": []
    },
    "kernelspec": {
      "name": "python3",
      "display_name": "Python 3"
    },
    "language_info": {
      "name": "python"
    }
  },
  "cells": [
    {
      "cell_type": "code",
      "execution_count": null,
      "metadata": {
        "id": "k2ktABcDtQU2"
      },
      "outputs": [],
      "source": []
    },
    {
      "cell_type": "code",
      "source": [
        "from google.colab import drive\n",
        "drive.mount('/content/drive')"
      ],
      "metadata": {
        "colab": {
          "base_uri": "https://localhost:8080/"
        },
        "id": "Imu6-x6L2yhj",
        "outputId": "5c058b1b-51dc-45b6-a454-e18f91e46d3e"
      },
      "execution_count": 1,
      "outputs": [
        {
          "output_type": "stream",
          "name": "stdout",
          "text": [
            "Mounted at /content/drive\n"
          ]
        }
      ]
    },
    {
      "cell_type": "code",
      "source": [
        "import cv2\n",
        "import numpy as np\n",
        "import matplotlib.pyplot as plt\n",
        "import os,glob\n",
        "from os import listdir,makedirs\n",
        "from os.path import isfile,join\n",
        "from tqdm import tqdm\n",
        "import random\n",
        "from sklearn.model_selection import KFold\n",
        "import statistics as st\n",
        "\n",
        "\n",
        "train_dir = '/content/drive/MyDrive/test'\n",
        "catagories = []\n",
        "for c in os.listdir(train_dir):\n",
        "    catagories.append(c)\n",
        "print(catagories)"
      ],
      "metadata": {
        "colab": {
          "base_uri": "https://localhost:8080/"
        },
        "id": "6Hs8fbuf5zQr",
        "outputId": "7883f227-9dcf-4f93-fc7d-5066a92916fd"
      },
      "execution_count": 15,
      "outputs": [
        {
          "output_type": "stream",
          "name": "stdout",
          "text": [
            "['ship', 'horse', 'frog', 'automobile', 'bird', 'dog', 'deer', 'truck', 'airplane', 'cat']\n"
          ]
        }
      ]
    },
    {
      "cell_type": "code",
      "source": [
        "train_data = []\n",
        "for c in catagories:\n",
        "    path = os.path.join(train_dir, c)\n",
        "    label = catagories.index(c)\n",
        "    for img in tqdm(os.listdir(path)):\n",
        "        img_path = os.path.join(path, img)\n",
        "        img_arr = cv2.imread(img_path,cv2.IMREAD_GRAYSCALE)\n",
        "        img_arr = cv2.resize(img_arr, (32, 32))\n",
        "        train_data.append([img_arr, label])\n",
        "\n",
        "print(f\"Total Train Data: {len(train_data)}\")"
      ],
      "metadata": {
        "colab": {
          "base_uri": "https://localhost:8080/"
        },
        "id": "o7-te-Bb6TQ7",
        "outputId": "87eec36e-5b5c-444b-80a2-4f4901f78452"
      },
      "execution_count": 3,
      "outputs": [
        {
          "output_type": "stream",
          "name": "stderr",
          "text": [
            "100%|██████████| 1000/1000 [00:15<00:00, 63.42it/s]\n",
            "100%|██████████| 1000/1000 [00:16<00:00, 61.83it/s]\n",
            "100%|██████████| 1000/1000 [00:22<00:00, 43.73it/s]\n",
            "100%|██████████| 1000/1000 [00:18<00:00, 55.31it/s]\n",
            "100%|██████████| 1000/1000 [00:23<00:00, 42.84it/s]\n",
            "100%|██████████| 1000/1000 [00:25<00:00, 38.63it/s]\n",
            "100%|██████████| 1000/1000 [00:19<00:00, 52.36it/s]\n",
            "100%|██████████| 1000/1000 [00:23<00:00, 43.10it/s]\n",
            "100%|██████████| 1000/1000 [00:20<00:00, 49.44it/s]\n",
            "100%|██████████| 1000/1000 [00:17<00:00, 55.59it/s]"
          ]
        },
        {
          "output_type": "stream",
          "name": "stdout",
          "text": [
            "Total Train Data: 10000\n"
          ]
        },
        {
          "output_type": "stream",
          "name": "stderr",
          "text": [
            "\n"
          ]
        }
      ]
    },
    {
      "cell_type": "code",
      "source": [
        "random.shuffle(train_data)\n",
        "\n",
        "KFactor = [0.25, 0.5, 1, 2, 4]\n",
        "kf = KFold(n_splits=5, random_state=None, shuffle=False)\n",
        "for i,(train_index, test_index) in enumerate(kf.split(train_data)):\n",
        "    k_values = np.multiply(np.sqrt(train_index.size),KFactor)\n",
        "    # k_values = np.arange(1,np.sqrt(train_index.size)*10,40)\n",
        "    k_values = [int(x) for x in k_values]\n",
        "    break"
      ],
      "metadata": {
        "id": "THyW5tf_CL2c"
      },
      "execution_count": null,
      "outputs": []
    },
    {
      "cell_type": "code",
      "source": [
        "accuracy = np.zeros((2,len(k_values),kf.n_splits), dtype=int)\n",
        "\n",
        "res = []\n",
        "for i,(train_index, test_index) in enumerate(kf.split(train_data)):\n",
        "    for x in tqdm(test_index):\n",
        "        r = []\n",
        "        testData = train_data[x][0]\n",
        "        l1 = []\n",
        "        l2 = []\n",
        "        for y in train_index:\n",
        "            trainData = train_data[y][0]\n",
        "            d = np.sum(abs(testData-trainData))\n",
        "            l1.append(d)\n",
        "            d = np.sqrt(np.sum((testData-trainData)**2))\n",
        "            l2.append(d)\n",
        "        l1_i = np.argsort(l1)\n",
        "        l2_i = np.argsort(l2)\n",
        "        for k in k_values:\n",
        "            comp = []\n",
        "            for j in l1_i[:k]:\n",
        "                comp.append(train_data[j][1])\n",
        "            if st.mode(comp) == train_data[x][1]:\n",
        "                accuracy[0][k_values.index(k)][i] += 1\n",
        "            comp = []\n",
        "            for j in l2_i[:k]:\n",
        "                comp.append(train_data[j][1])\n",
        "            if st.mode(comp) == train_data[x][1]:\n",
        "                accuracy[1][k_values.index(k)][i] += 1"
      ],
      "metadata": {
        "colab": {
          "base_uri": "https://localhost:8080/"
        },
        "id": "iX3PTK6zChQX",
        "outputId": "1ac25a0f-135d-4df3-950f-3d67d5606381"
      },
      "execution_count": 17,
      "outputs": [
        {
          "output_type": "stream",
          "name": "stderr",
          "text": [
            "100%|██████████| 2000/2000 [05:55<00:00,  5.62it/s]\n",
            "100%|██████████| 2000/2000 [05:56<00:00,  5.61it/s]\n",
            "100%|██████████| 2000/2000 [05:57<00:00,  5.60it/s]\n",
            "100%|██████████| 2000/2000 [05:55<00:00,  5.62it/s]\n",
            "100%|██████████| 2000/2000 [06:03<00:00,  5.51it/s]\n"
          ]
        }
      ]
    }
  ]
}