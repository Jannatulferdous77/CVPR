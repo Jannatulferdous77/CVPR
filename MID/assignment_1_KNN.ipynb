{
  "nbformat": 4,
  "nbformat_minor": 0,
  "metadata": {
    "colab": {
      "provenance": []
    },
    "kernelspec": {
      "name": "python3",
      "display_name": "Python 3"
    },
    "language_info": {
      "name": "python"
    }
  },
  "cells": [
    {
      "cell_type": "code",
      "execution_count": null,
      "metadata": {
        "id": "k2ktABcDtQU2"
      },
      "outputs": [],
      "source": []
    },
    {
      "cell_type": "code",
      "source": [
        "from google.colab import drive\n",
        "drive.mount('/content/drive')"
      ],
      "metadata": {
        "colab": {
          "base_uri": "https://localhost:8080/"
        },
        "id": "Imu6-x6L2yhj",
        "outputId": "5c058b1b-51dc-45b6-a454-e18f91e46d3e"
      },
      "execution_count": 1,
      "outputs": [
        {
          "output_type": "stream",
          "name": "stdout",
          "text": [
            "Mounted at /content/drive\n"
          ]
        }
      ]
    },
    {
      "cell_type": "code",
      "source": [
        "import cv2\n",
        "import numpy as np\n",
        "import matplotlib.pyplot as plt\n",
        "import os,glob\n",
        "from os import listdir,makedirs\n",
        "from os.path import isfile,join\n",
        "from tqdm import tqdm\n",
        "import random\n",
        "from sklearn.model_selection import KFold\n",
        "import statistics as st\n",
        "\n",
        "\n",
        "test_dir = '/content/drive/MyDrive/test'\n",
        "catagories = []\n",
        "for c in os.listdir(test_dir):\n",
        "    catagories.append(c)\n",
        "print(catagories)"
      ],
      "metadata": {
        "colab": {
          "base_uri": "https://localhost:8080/"
        },
        "id": "6Hs8fbuf5zQr",
        "outputId": "a474d899-dd9d-4bc5-fc6c-6c379d65a940"
      },
      "execution_count": 20,
      "outputs": [
        {
          "output_type": "stream",
          "name": "stdout",
          "text": [
            "['ship', 'horse', 'frog', 'automobile', 'bird', 'dog', 'deer', 'truck', 'airplane', 'cat']\n"
          ]
        }
      ]
    },
    {
      "cell_type": "code",
      "source": [
        "from numpy.ma import test\n",
        "test_data = []\n",
        "for c in catagories:\n",
        "    path = os.path.join(test_dir, c)\n",
        "    label = catagories.index(c)\n",
        "    for img in tqdm(os.listdir(path)):\n",
        "        img_path = os.path.join(path, img)\n",
        "        img_arr = cv2.imread(img_path,cv2.IMREAD_GRAYSCALE)\n",
        "        img_arr = cv2.resize(img_arr, (32, 32))\n",
        "        test_data.append([img_arr, label])\n",
        "\n",
        "print(f\"Total Test Data: {len(test_data)}\")"
      ],
      "metadata": {
        "colab": {
          "base_uri": "https://localhost:8080/"
        },
        "id": "o7-te-Bb6TQ7",
        "outputId": "4958e99d-8c2f-4d06-d479-0d0ae39373c1"
      },
      "execution_count": 21,
      "outputs": [
        {
          "output_type": "stream",
          "name": "stderr",
          "text": [
            "100%|██████████| 1000/1000 [00:02<00:00, 338.34it/s]\n",
            "100%|██████████| 1000/1000 [00:02<00:00, 405.21it/s]\n",
            "100%|██████████| 1000/1000 [00:02<00:00, 350.55it/s]\n",
            "100%|██████████| 1000/1000 [00:03<00:00, 262.39it/s]\n",
            "100%|██████████| 1000/1000 [00:02<00:00, 333.74it/s]\n",
            "100%|██████████| 1000/1000 [00:02<00:00, 334.33it/s]\n",
            "100%|██████████| 1000/1000 [00:04<00:00, 224.49it/s]\n",
            "100%|██████████| 1000/1000 [00:02<00:00, 357.87it/s]\n",
            "100%|██████████| 1000/1000 [00:02<00:00, 401.46it/s]\n",
            "100%|██████████| 1000/1000 [00:02<00:00, 347.31it/s]\n"
          ]
        },
        {
          "output_type": "stream",
          "name": "stdout",
          "text": [
            "Total Test Data: 10000\n"
          ]
        }
      ]
    },
    {
      "cell_type": "code",
      "source": [
        "random.shuffle(test_data)\n",
        "\n",
        "KFactor = [0.25, 0.5, 1, 2, 4]\n",
        "kf = KFold(n_splits=5, random_state=None, shuffle=False)\n",
        "for i,(train_index, test_index) in enumerate(kf.split(test_data)):\n",
        "    k_values = np.multiply(np.sqrt(train_index.size),KFactor)\n",
        "    # k_values = np.arange(1,np.sqrt(train_index.size)*10,40)\n",
        "    k_values = [int(x) for x in k_values]\n",
        "    break"
      ],
      "metadata": {
        "id": "THyW5tf_CL2c"
      },
      "execution_count": null,
      "outputs": []
    },
    {
      "cell_type": "code",
      "source": [
        "accuracy = np.zeros((2,len(k_values),kf.n_splits), dtype=int)\n",
        "\n",
        "res = []\n",
        "for i,(train_index, test_index) in enumerate(kf.split(test_data)):\n",
        "    for x in tqdm(test_index):\n",
        "        r = []\n",
        "        testData = test_data[x][0]\n",
        "        l1 = []\n",
        "        l2 = []\n",
        "        for y in train_index:\n",
        "            trainData = test_data[y][0]\n",
        "            d = np.sum(abs(testData-trainData))\n",
        "            l1.append(d)\n",
        "            d = np.sqrt(np.sum((testData-trainData)**2))\n",
        "            l2.append(d)\n",
        "        l1_i = np.argsort(l1)\n",
        "        l2_i = np.argsort(l2)\n",
        "        for k in k_values:\n",
        "            comp = []\n",
        "            for j in l1_i[:k]:\n",
        "                comp.append(test_data[j][1])\n",
        "            if st.mode(comp) == test_data[x][1]:\n",
        "                accuracy[0][k_values.index(k)][i] += 1\n",
        "            comp = []\n",
        "            for j in l2_i[:k]:\n",
        "                comp.append(test_data[j][1])\n",
        "            if st.mode(comp) == test_data[x][1]:\n",
        "                accuracy[1][k_values.index(k)][i] += 1"
      ],
      "metadata": {
        "colab": {
          "base_uri": "https://localhost:8080/"
        },
        "id": "iX3PTK6zChQX",
        "outputId": "99348deb-bd5a-4749-8409-3eb2851dc4bf"
      },
      "execution_count": 22,
      "outputs": [
        {
          "output_type": "stream",
          "name": "stderr",
          "text": [
            "100%|██████████| 2000/2000 [06:33<00:00,  5.08it/s]\n",
            "100%|██████████| 2000/2000 [06:20<00:00,  5.26it/s]\n",
            "100%|██████████| 2000/2000 [06:01<00:00,  5.53it/s]\n",
            "100%|██████████| 2000/2000 [06:10<00:00,  5.40it/s]\n",
            "100%|██████████| 2000/2000 [05:46<00:00,  5.77it/s]\n"
          ]
        }
      ]
    },
    {
      "cell_type": "code",
      "source": [
        "L1_acc = [[],[]]\n",
        "L2_acc = [[],[]]\n",
        "print(accuracy)\n",
        "for a in accuracy[0]:\n",
        "    L1_acc[0].append(a.mean()*100/2000)\n",
        "    L1_acc[1].append(a.std()*100/2000)\n",
        "for a in accuracy[1]:\n",
        "    L2_acc[0].append(a.mean()*100/2000)\n",
        "    L2_acc[1].append(a.std()*100/2000)"
      ],
      "metadata": {
        "colab": {
          "base_uri": "https://localhost:8080/"
        },
        "id": "y0e2T6paLEBu",
        "outputId": "17d196d5-18e8-4b9c-cb42-6c5b8468b532"
      },
      "execution_count": 18,
      "outputs": [
        {
          "output_type": "stream",
          "name": "stdout",
          "text": [
            "[[[188 323 396 438 450]\n",
            "  [208 349 418 441 452]\n",
            "  [189 350 409 427 436]\n",
            "  [203 363 402 418 432]\n",
            "  [187 366 382 392 412]]\n",
            "\n",
            " [[192 288 310 305 302]\n",
            "  [200 293 306 297 291]\n",
            "  [198 290 301 289 285]\n",
            "  [176 281 299 307 296]\n",
            "  [193 280 308 321 316]]]\n"
          ]
        }
      ]
    },
    {
      "cell_type": "code",
      "source": [
        "plt.figure(figsize=(10, 6))\n",
        "plt.errorbar(k_values, L1_acc[0], L1_acc[1])\n",
        "plt.errorbar(k_values, L2_acc[0], L2_acc[1])\n",
        "plt.legend(['Manhattan (L1)','Euclidean (L2)'])\n",
        "plt.xlabel('K (Number of Neighbors)')\n",
        "plt.ylabel('Cross-Validation Accuracy')\n",
        "plt.title('K-NN Classifier Accuracy for Different K Values')\n",
        "plt.xticks(k_values)\n",
        "plt.legend()\n",
        "plt.show()"
      ],
      "metadata": {
        "colab": {
          "base_uri": "https://localhost:8080/",
          "height": 601
        },
        "id": "VTsbLj2vLnh1",
        "outputId": "5e947b78-17d7-424b-f811-7ed83a4b55bd"
      },
      "execution_count": 19,
      "outputs": [
        {
          "output_type": "stream",
          "name": "stderr",
          "text": [
            "WARNING:matplotlib.legend:No artists with labels found to put in legend.  Note that artists whose label start with an underscore are ignored when legend() is called with no argument.\n"
          ]
        },
        {
          "output_type": "display_data",
          "data": {
            "text/plain": [
              "<Figure size 1000x600 with 1 Axes>"
            ],
            "image/png": "[encoded data removed]"
          },
          "metadata": {}
        }
      ]
    }
  ]
}