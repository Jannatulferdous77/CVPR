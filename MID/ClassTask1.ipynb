{
  "nbformat": 4,
  "nbformat_minor": 0,
  "metadata": {
    "colab": {
      "provenance": []
    },
    "kernelspec": {
      "name": "python3",
      "display_name": "Python 3"
    },
    "language_info": {
      "name": "python"
    }
  },
  "cells": [
    {
      "cell_type": "code",
      "execution_count": null,
      "metadata": {
        "id": "5TVfaZXlqbCs"
      },
      "outputs": [],
      "source": []
    },
    {
      "cell_type": "code",
      "source": [
        "from google.colab import drive\n",
        "drive.mount('/content/drive')"
      ],
      "metadata": {
        "colab": {
          "base_uri": "https://localhost:8080/"
        },
        "id": "fqsQY3plqpyr",
        "outputId": "90f8af66-1e28-41c1-d563-300b99bf6d44"
      },
      "execution_count": 2,
      "outputs": [
        {
          "output_type": "stream",
          "name": "stdout",
          "text": [
            "Mounted at /content/drive\n"
          ]
        }
      ]
    },
    {
      "cell_type": "code",
      "source": [
        "import os\n",
        "import random\n",
        "import numpy as np\n",
        "from tqdm import tqdm\n",
        "import cv2\n",
        "import matplotlib.pyplot as plt\n",
        "import math\n",
        "\n",
        "TRAIN_DIR = '/content/drive/MyDrive/test'\n",
        "CATEGORIES = []\n",
        "for c in os.listdir(TRAIN_DIR):\n",
        "    CATEGORIES.append(c)\n",
        "print(CATEGORIES)"
      ],
      "metadata": {
        "colab": {
          "base_uri": "https://localhost:8080/"
        },
        "id": "NlF9cLkJrjkF",
        "outputId": "6d0e92aa-a944-4ba0-a839-8208aedc1ab8"
      },
      "execution_count": 3,
      "outputs": [
        {
          "output_type": "stream",
          "name": "stdout",
          "text": [
            "['ship', 'horse', 'frog', 'automobile', 'bird', 'dog', 'deer', 'truck', 'airplane', 'cat']\n"
          ]
        }
      ]
    },
    {
      "cell_type": "code",
      "source": [
        "TRAIN_DATA = []\n",
        "for c in CATEGORIES:\n",
        "    path = os.path.join(TRAIN_DIR, c)\n",
        "    label = CATEGORIES.index(c)\n",
        "    for img in tqdm(os.listdir(path)):\n",
        "        img_path = os.path.join(path, img)\n",
        "        img_arr = cv2.imread(img_path,cv2.IMREAD_GRAYSCALE)\n",
        "        img_arr = cv2.resize(img_arr, (32, 32))\n",
        "        TRAIN_DATA.append([img_arr, label])\n",
        "\n",
        "print(f\"Total Train Data: {len(TRAIN_DATA)}\")"
      ],
      "metadata": {
        "colab": {
          "base_uri": "https://localhost:8080/"
        },
        "id": "0EbSdaH3vQKp",
        "outputId": "bd6dfa01-4a87-4954-c517-4e59189b69e9"
      },
      "execution_count": 4,
      "outputs": [
        {
          "output_type": "stream",
          "name": "stderr",
          "text": [
            "100%|██████████| 1000/1000 [00:14<00:00, 69.53it/s]\n",
            "100%|██████████| 1000/1000 [00:12<00:00, 77.25it/s]\n",
            "100%|██████████| 1000/1000 [00:14<00:00, 68.94it/s]\n",
            "100%|██████████| 1000/1000 [00:13<00:00, 76.25it/s]\n",
            "100%|██████████| 1000/1000 [00:13<00:00, 74.53it/s]\n",
            "100%|██████████| 1000/1000 [00:12<00:00, 80.96it/s]\n",
            "100%|██████████| 1000/1000 [00:12<00:00, 78.85it/s]\n",
            "100%|██████████| 1000/1000 [00:15<00:00, 66.55it/s]\n",
            "100%|██████████| 1000/1000 [00:13<00:00, 75.08it/s]\n",
            "100%|██████████| 1000/1000 [00:15<00:00, 63.44it/s]"
          ]
        },
        {
          "output_type": "stream",
          "name": "stdout",
          "text": [
            "Total Train Data: 10000\n"
          ]
        },
        {
          "output_type": "stream",
          "name": "stderr",
          "text": [
            "\n"
          ]
        }
      ]
    },
    {
      "cell_type": "code",
      "source": [
        "random.shuffle(TRAIN_DATA)\n",
        "plt.figure(figsize=(20,10))\n",
        "for c in range(50):\n",
        "    plt.subplot(5,10,c+1)\n",
        "    image=TRAIN_DATA[c][0]\n",
        "    image=cv2.imread('your_image.jpg', cv2.IMREAD_COLOR)\n",
        "    plt.imshow(image, cmap='gray')\n",
        "    plt.xlabel(CATEGORIES[TRAIN_DATA[c][1]])\n",
        "    plt.xticks([])\n",
        "    plt.yticks([])\n",
        "    if c==50:\n",
        "        break\n",
        "plt.show()\n"
      ],
      "metadata": {
        "id": "0OSUXdFbwcgu"
      },
      "execution_count": null,
      "outputs": []
    }
  ]
}